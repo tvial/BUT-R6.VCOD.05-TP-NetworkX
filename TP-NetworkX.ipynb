{
 "cells": [
  {
   "cell_type": "markdown",
   "id": "aa2f954c-1934-476f-a367-9707dc3fc77f",
   "metadata": {},
   "source": [
    "# Vos noms\n",
    "\n",
    "Renseigner vos noms dans la cellule ci-dessous :"
   ]
  },
  {
   "cell_type": "code",
   "execution_count": null,
   "id": "edcf483c-31e1-4db4-b258-0b81e7471d35",
   "metadata": {},
   "outputs": [],
   "source": []
  },
  {
   "cell_type": "markdown",
   "id": "12a2e1b8-c948-4aa8-ae0c-a921eb84c72c",
   "metadata": {},
   "source": [
    "# TP NetworkX\n",
    "\n",
    "Ce TP, a pour but la manipulation de graphes en Python, en mémoire, avec la librairie **[NetworkX](https://networkx.org/documentation/stable/index.html)**."
   ]
  },
  {
   "cell_type": "code",
   "execution_count": 1,
   "id": "d2517b5d-36df-40a5-bc7f-e3b5d1f09d7e",
   "metadata": {},
   "outputs": [
    {
     "name": "stdout",
     "output_type": "stream",
     "text": [
      "Requirement already satisfied: networkx in /home/thomas.vial/.local/lib/python3.10/site-packages (3.4.2)\n",
      "Note: you may need to restart the kernel to use updated packages.\n"
     ]
    }
   ],
   "source": [
    "%pip install networkx"
   ]
  },
  {
   "cell_type": "markdown",
   "id": "d8dabf53-b631-4a59-9804-e03429bda6f6",
   "metadata": {},
   "source": [
    "## Contexte\n",
    "\n",
    "Nous allons analyser des **interactions entre objets connectés** dans les usines de Transpomme. Les objets sont de 3 types :\n",
    "- des **périphériques de capture** PomSort au plus près des machines (caméra + modèles d'IA embarqués en mode \"edge computing\"). Il y en a plus de 1000\n",
    "- des **concentrateurs** qui reçoivent les données PomSort au niveau de chaque atelier. Il y en a quelques centaines\n",
    "- des **super-concentrateurs** qui agrègent les données venant des concentrateurs d'atelier, pour les consolider au niveau usine. Il y en a quelque-uns\n",
    "\n",
    "Les périphériques de capture parlent aux concentrateurs (flèches **(1)**), les concentrateurs aux super-concentrateurs (flèches **(2)**), et parfois à d'autres concentrateurs de la même usine (flèche **(3)**), et les super-concentrateurs parlent entre eux (flèche **(4)**).\n",
    "\n",
    "<img src=\"https://github.com/tvial/BUT-R6.VCOD.05-TP-NetworkX/blob/main/graph.png?raw=true\">\n",
    "\n",
    "Il faut aussi savoir que nos données couvrent 2 pays : la France, et la Suisse. La France a plus d'usines que la Suisse, et il n'y a pas d'échanges de données entres les usines de ces pays.\n",
    "\n",
    "Dans notre modélisation, chaque périphérique, concentrateur ou super-concentrateur est un noeud de graphe, et les interactions sont les arcs. Le graphe sera dirigé, dans la mesure où les interactions ont un sens (_\"A envoie des données à B\"_).\n",
    "\n",
    "## Données\n",
    "\n",
    "Les interactions sont données dans un fichier CSV, `interactions.csv`. C'est une liste d'adjacence :\n",
    "```\n",
    "timestamp,from_device,to_device\n",
    "2025-03-08 15:23:07,108.175.212.176,108.172.90.112\n",
    "2025-02-25 12:03:07,108.171.174.176,108.170.255.48\n",
    "2025-02-20 00:39:42,108.172.47.176,108.171.130.112\n",
    "2025-02-10 01:09:52,108.171.149.48,108.170.254.176\n",
    "\n",
    "...\n",
    "```\n",
    "\n",
    "- `timestamp` : date & heure de l'interaction\n",
    "- `from_device` : adresse IP du noeud _A_qui initie l'interaction\n",
    "- `to_device` : adresse IP du noeud _B_ qui reçoit l'interaction"
   ]
  },
  {
   "cell_type": "markdown",
   "id": "98bc6b95-f302-4afa-8b12-a2b05f09d5b2",
   "metadata": {},
   "source": [
    "# Questions"
   ]
  },
  {
   "cell_type": "markdown",
   "id": "363fd840-1535-4534-ba20-3963c0251e9d",
   "metadata": {},
   "source": [
    "## 1. Chargement et mise en forme des données\n",
    "\n",
    "Charger le fichier d'interactions dans un dataframe Pandas nommé `interactions`, et l'agréger pour obtenir les colonnes suivantes :\n",
    "- `from_device`\n",
    "- `to_device`\n",
    "- `n_interactions` : nombre d'interactions entre les 2 noeuds (on n'est pas intéressé par les timestamps en tant que tels, juste leur nombre)"
   ]
  },
  {
   "cell_type": "code",
   "execution_count": null,
   "id": "f3435594-42bb-4582-a699-1c131678b078",
   "metadata": {},
   "outputs": [],
   "source": []
  },
  {
   "cell_type": "markdown",
   "id": "7b6cf1fc-31b0-4041-b7a3-89e047c73641",
   "metadata": {},
   "source": [
    "Contrôle :"
   ]
  },
  {
   "cell_type": "code",
   "execution_count": 2,
   "id": "64de6c85-5952-404d-bd87-d7997cabd405",
   "metadata": {},
   "outputs": [
    {
     "data": {
      "text/html": [
       "<div>\n",
       "<style scoped>\n",
       "    .dataframe tbody tr th:only-of-type {\n",
       "        vertical-align: middle;\n",
       "    }\n",
       "\n",
       "    .dataframe tbody tr th {\n",
       "        vertical-align: top;\n",
       "    }\n",
       "\n",
       "    .dataframe thead th {\n",
       "        text-align: right;\n",
       "    }\n",
       "</style>\n",
       "<table border=\"1\" class=\"dataframe\">\n",
       "  <thead>\n",
       "    <tr style=\"text-align: right;\">\n",
       "      <th></th>\n",
       "      <th>from_device</th>\n",
       "      <th>to_device</th>\n",
       "      <th>n</th>\n",
       "    </tr>\n",
       "  </thead>\n",
       "  <tbody>\n",
       "    <tr>\n",
       "      <th>0</th>\n",
       "      <td>108.170.254.176</td>\n",
       "      <td>108.170.255.176</td>\n",
       "      <td>260</td>\n",
       "    </tr>\n",
       "    <tr>\n",
       "      <th>1</th>\n",
       "      <td>108.170.254.48</td>\n",
       "      <td>108.170.255.176</td>\n",
       "      <td>233</td>\n",
       "    </tr>\n",
       "    <tr>\n",
       "      <th>2</th>\n",
       "      <td>108.170.255.176</td>\n",
       "      <td>108.171.128.240</td>\n",
       "      <td>336</td>\n",
       "    </tr>\n",
       "    <tr>\n",
       "      <th>3</th>\n",
       "      <td>108.170.255.176</td>\n",
       "      <td>108.171.128.48</td>\n",
       "      <td>196</td>\n",
       "    </tr>\n",
       "    <tr>\n",
       "      <th>4</th>\n",
       "      <td>108.170.255.48</td>\n",
       "      <td>108.170.255.176</td>\n",
       "      <td>300</td>\n",
       "    </tr>\n",
       "  </tbody>\n",
       "</table>\n",
       "</div>"
      ],
      "text/plain": [
       "       from_device        to_device    n\n",
       "0  108.170.254.176  108.170.255.176  260\n",
       "1   108.170.254.48  108.170.255.176  233\n",
       "2  108.170.255.176  108.171.128.240  336\n",
       "3  108.170.255.176   108.171.128.48  196\n",
       "4   108.170.255.48  108.170.255.176  300"
      ]
     },
     "execution_count": 2,
     "metadata": {},
     "output_type": "execute_result"
    }
   ],
   "source": [
    "interactions.sort_values(['from_device', 'to_device']).head()"
   ]
  },
  {
   "cell_type": "markdown",
   "id": "7aaf04cc-783e-4df4-af53-6dee9e079ce2",
   "metadata": {},
   "source": [
    "## 2. Création du graphe\n",
    "\n",
    "Créer un graphe NetworkX dirigé (`DiGraph`), nommé `graph`, et l'alimenter avec les arcs donnés par les interactions. On peut se contenter de créer uniquement les arcs, les noeuds seront ajoutés automatiquement si nécessaire.\n",
    "\n",
    "Les arcs doivent être dirigés dans le bon sens, et avoir un attribut `n`, qui contient la valeur de la colonne de même nom dans le dataframe."
   ]
  },
  {
   "cell_type": "code",
   "execution_count": null,
   "id": "dae2155a-e4e8-4b8d-89ae-28d935597887",
   "metadata": {},
   "outputs": [],
   "source": []
  },
  {
   "cell_type": "markdown",
   "id": "a350c6b7-ef80-489c-ac17-02c88bc1dd99",
   "metadata": {},
   "source": [
    "Contrôle du nombre de noeuds et d'arcs :"
   ]
  },
  {
   "cell_type": "code",
   "execution_count": 297,
   "id": "cad632dc-ce26-475b-b305-f5890af4f697",
   "metadata": {},
   "outputs": [
    {
     "name": "stdout",
     "output_type": "stream",
     "text": [
      "Noeuds : 1531 / arcs : 1591\n"
     ]
    }
   ],
   "source": [
    "print('Noeuds :', len(graph.nodes), '/ arcs :', len(graph.edges))"
   ]
  },
  {
   "cell_type": "markdown",
   "id": "88f18237-7776-4045-b89f-88134a518838",
   "metadata": {},
   "source": [
    "## 3. Visualisation\n",
    "\n",
    "Calculer des positions de noeuds pour le layout \"_spring_\". Régler le paramètre `k` à 0.06."
   ]
  },
  {
   "cell_type": "code",
   "execution_count": null,
   "id": "40fbe72a-3184-4e63-882f-cf690dfaccd7",
   "metadata": {},
   "outputs": [],
   "source": []
  },
  {
   "cell_type": "markdown",
   "id": "a304173c-7a78-4566-9565-add5c5ba5046",
   "metadata": {},
   "source": [
    "Représenter ensuite le graphe avec les positions calculées précédemment, et interpréter sommairement sa forme.\n",
    "\n",
    "Quelques recommandations :\n",
    "- la taille des noeuds par défaut est trop élevée, changer pour une taille de 10\n",
    "- avec le chevauchement on ne voit pas grand-chose, vous pouvez régler la transparence à 0.5\n",
    "- si le résultat reste difficile à interpréter visuellement, il peut être nécessaire de recalculer les positions 2 ou 3 fois jusqu'à obtenir une représentation exploitable. Cela change les conditions initiales aléatoires du calcul"
   ]
  },
  {
   "cell_type": "code",
   "execution_count": null,
   "id": "58df80ab-9a32-4e7c-8173-7097dad40dad",
   "metadata": {},
   "outputs": [],
   "source": []
  },
  {
   "cell_type": "markdown",
   "id": "05ac3cc4-9ffb-4e95-8665-6dd670e9b7b1",
   "metadata": {},
   "source": [
    "## 4. Distribution des degrés\n",
    "\n",
    "Représenter la distribution statistique des degrés **entrants** des noeuds (sans tenir compte de la valeur de `n`). Cette distribution doit prendre la forme d'un histogramme ; choisir un nombre de \"bins\" approprié pour faire ressortir la structure. Comment peut-on interpréter la distribution avec ce que l'on sait du graphe ?"
   ]
  },
  {
   "cell_type": "code",
   "execution_count": null,
   "id": "c92e4d0e-b669-421f-91de-e35ff200b9f8",
   "metadata": {},
   "outputs": [],
   "source": []
  },
  {
   "cell_type": "markdown",
   "id": "e358c5b8-e150-4e5c-8a84-8ef2a09954d3",
   "metadata": {},
   "source": [
    "## 5. Classification des noeuds\n",
    "\n",
    "A partir de la question précédente, trouver une règle qui permette d'attribuer à chaque noeud son type (périphérique de capture, concentrateur, super-concentrateur).\n",
    "\n",
    "Combien y a-t-il de noeuds de chaque type ?"
   ]
  },
  {
   "cell_type": "code",
   "execution_count": null,
   "id": "a4d21177-8258-4ebc-b40d-94b3ecee8f02",
   "metadata": {},
   "outputs": [],
   "source": []
  },
  {
   "cell_type": "markdown",
   "id": "f1c85a1f-85ec-4778-a79b-ccbfc51671bf",
   "metadata": {},
   "source": [
    "Ajouter, à chaque noeud du graphe, un attribut `type` qui a pour valeur `capture`, `concentrator` ou `super-concentrator` selon son type."
   ]
  },
  {
   "cell_type": "code",
   "execution_count": null,
   "id": "c3034afa-c7aa-47e9-a502-3f489798d99a",
   "metadata": {},
   "outputs": [],
   "source": []
  },
  {
   "cell_type": "markdown",
   "id": "b56d2ea9-2287-441f-b2a7-b855d84d75c8",
   "metadata": {},
   "source": [
    "## 6. Amélioration de la dataviz\n",
    "\n",
    "Reprendre la dataviz de la question 3, pour changer la représentation des noeuds :\n",
    "- capture : taille 8, couleur `tab:blue`\n",
    "- concentrateurs : taille 30, couleur `tab:orange`\n",
    "- super-concentrateurs : taille 100, couleur `tab:green`\n",
    "\n",
    "Vous pourrez réutiliser les positions de noeuds précédentes, sans les recalculer."
   ]
  },
  {
   "cell_type": "code",
   "execution_count": null,
   "id": "b4d9755c-82b1-4349-a734-80077e969bd0",
   "metadata": {},
   "outputs": [],
   "source": []
  },
  {
   "cell_type": "markdown",
   "id": "4c51e26a-0ba2-41d5-b20a-c4ae13a8a2de",
   "metadata": {},
   "source": [
    "## 7. Identification des pays\n",
    "\n",
    "Analyser le graphe pour retrouver la distinction entre les 2 pays (France, Suisse). Quelles sont les adresses IP des super-concentrateurs de chaque pays ?\n",
    "\n",
    "NB : l'algorithme de positionnement des noeuds peut ne pas faire apparaître la séparation dans la dataviz. Cela arrive quand les groupes de noeuds se chevauchent."
   ]
  },
  {
   "cell_type": "code",
   "execution_count": null,
   "id": "1577f46b-9720-4c64-a21c-da2f13d3c89d",
   "metadata": {},
   "outputs": [],
   "source": []
  },
  {
   "cell_type": "markdown",
   "id": "8b2de425-f06d-43bd-87d4-e08f9df4b662",
   "metadata": {},
   "source": [
    "## 8. Calcul de centralité v1\n",
    "\n",
    "Calculer la centralité \"betweenness\" non normalisée de tous les noeuds du graphe, et afficher les 15 noeuds les plus centraux avec leur mesure de centralité."
   ]
  },
  {
   "cell_type": "code",
   "execution_count": null,
   "id": "32938366-06bf-4a8d-b098-44b03f0e2f9a",
   "metadata": {},
   "outputs": [],
   "source": []
  },
  {
   "cell_type": "markdown",
   "id": "2bd36dd6-c817-4d99-990f-eaa41371a7b0",
   "metadata": {},
   "source": [
    "Parmi ce top 20, quels super-concentrateurs retrouvez-vous ?"
   ]
  },
  {
   "cell_type": "code",
   "execution_count": null,
   "id": "46a877c7-b3c5-4cf7-ab1a-5d945fae106c",
   "metadata": {},
   "outputs": [],
   "source": []
  },
  {
   "cell_type": "markdown",
   "id": "60c53955-2a85-4bef-b4db-ed351fcc9ef4",
   "metadata": {},
   "source": [
    "On devrait s'attendre à trouver les super-concentrateurs en premier, car c'est par eux que passent la plupart des chemins. Expliquez pourquoi certains n'apparaissent pas (vous pouvez consulter leur centralité pour avoir un indice). Comment modifier le calcul de centralité pour les faire apparaître ?"
   ]
  },
  {
   "cell_type": "code",
   "execution_count": null,
   "id": "23c4294d-1137-473e-85aa-0a5c926abf5e",
   "metadata": {},
   "outputs": [],
   "source": []
  },
  {
   "cell_type": "markdown",
   "id": "436f95b7-b425-4471-b697-a365d32daca1",
   "metadata": {},
   "source": [
    "## 9. Calcul de centralité v2\n",
    "\n",
    "Les calculs précédents n'ont pas exploité l'attribut `n` des arcs, qui mesurent combien d'interactions ont eu lieu entre 2 noeuds sur la période d'observation.\n",
    "\n",
    "Les calculs de centralité peuvent exploiter un poids par arc, via le paramètre `weight`, interprété comme une distance dans la détermination des plus courts chemins.\n",
    "\n",
    "Si on considère que 2 noeuds sont plus \"proches\" quand ils ont un grand nombre d'interactions, ajouter un attribut `dist` aux noeuds, qui est l'inverse de leur paramètre `n`. Refaire les calculs de centralité et de \"top 15\" en pondérant les arcs par cet attribut."
   ]
  },
  {
   "cell_type": "code",
   "execution_count": null,
   "id": "85d01b11-9a0e-476c-b006-7348aa7b5a5d",
   "metadata": {},
   "outputs": [],
   "source": []
  },
  {
   "cell_type": "markdown",
   "id": "855f5128-41c1-4bb8-9fba-3609a6c2cf75",
   "metadata": {},
   "source": [
    "Vous devez constater que les changements sont très peu significatifs : ordre de grandeur, classement du top 15. Avec ce que vous savez du graphe et de la centralité \"betwenness\", comment expliquer cela ?"
   ]
  },
  {
   "cell_type": "code",
   "execution_count": null,
   "id": "7a7af1aa-2897-4609-b385-45ef66870a4a",
   "metadata": {},
   "outputs": [],
   "source": []
  },
  {
   "cell_type": "markdown",
   "id": "8cb43dbc-a7f9-4c86-90c9-9a266fd17aa5",
   "metadata": {},
   "source": [
    "## 10. Identification de chemins\n",
    "\n",
    "Enumérer tous les chemins allant du noeud `108.173.172.48` au noeud `108.170.255.176`, avec les noeuds du parcours. Interpréter le résultat (nombre de chemins)."
   ]
  },
  {
   "cell_type": "code",
   "execution_count": null,
   "id": "6af251aa-bebd-4570-9ce3-b2f3d6f4029b",
   "metadata": {},
   "outputs": [],
   "source": []
  },
  {
   "cell_type": "markdown",
   "id": "3bf582bc-7a01-4240-b942-6e880c951542",
   "metadata": {},
   "source": [
    "Afficher les attributs des noeuds du parcours de chaque chemin, et interpréter le résultat."
   ]
  },
  {
   "cell_type": "code",
   "execution_count": null,
   "id": "be4d2b7b-1cd3-49a6-8679-1d19cef61fde",
   "metadata": {},
   "outputs": [],
   "source": []
  },
  {
   "cell_type": "markdown",
   "id": "2c3ad83c-2b38-4db6-9dc1-e899e953236b",
   "metadata": {},
   "source": [
    "## 11. Extraction et fusion de sous-graphes\n",
    "\n",
    "Un virus informatique a été repéré sur le réseau Transpomme ; on sait qu'il a contaminé les périphériques de capture `108.176.176.112` et `108.176.200.240`. On cherche à savoir quels autres noeuds du réseau il a pu infecter, en suivant les envois de données.\n",
    "\n",
    "Extraire les sous-arbres partant de ces 2 noeuds sources, et les représenter chacun de son côté (en réutilisant les positions, tailles de noeuds et couleurs déjà utilisées plus haut, et cette fois en affichant les noms des noeuds).\n",
    "\n",
    "Ensuite, fusionner les 2 sous-graphes et représenter le résultat, pour avoir une vue synthétique de l'épidémie.\n",
    "\n",
    "NB : en faisant l'extraction des sous-graphes, les attributs des noeuds ne sont pas repris, mais leurs noms le sont. Pour récupérer les types des noeuds (nécessaires pour la taille et la couleur), vous pouvez interroger le graphe principal."
   ]
  },
  {
   "cell_type": "code",
   "execution_count": null,
   "id": "fa0c6e36-2514-47e3-9023-23518cacd760",
   "metadata": {},
   "outputs": [],
   "source": []
  }
 ],
 "metadata": {
  "kernelspec": {
   "display_name": "Python 3 (ipykernel)",
   "language": "python",
   "name": "python3"
  },
  "language_info": {
   "codemirror_mode": {
    "name": "ipython",
    "version": 3
   },
   "file_extension": ".py",
   "mimetype": "text/x-python",
   "name": "python",
   "nbconvert_exporter": "python",
   "pygments_lexer": "ipython3",
   "version": "3.10.0"
  }
 },
 "nbformat": 4,
 "nbformat_minor": 5
}
